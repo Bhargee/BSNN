{
 "cells": [
  {
   "cell_type": "code",
   "execution_count": 1,
   "metadata": {
    "collapsed": true
   },
   "outputs": [],
   "source": [
    "%load_ext autoreload\n",
    "%autoreload 2"
   ]
  },
  {
   "cell_type": "code",
   "execution_count": 2,
   "metadata": {
    "collapsed": true
   },
   "outputs": [],
   "source": [
    "import os\n",
    "os.environ[\"CUDA_DEVICE_ORDER\"]=\"PCI_BUS_ID\"\n",
    "os.environ[\"CUDA_VISIBLE_DEVICES\"]=\"0\"\n",
    "from model import demonstrate\n",
    "\n",
    "#demonstrate()"
   ]
  },
  {
   "cell_type": "code",
   "execution_count": 3,
   "metadata": {
    "collapsed": true
   },
   "outputs": [],
   "source": [
    "import numpy as np\n",
    "import os\n",
    "import torch\n",
    "import pandas as pd\n",
    "import numpy as np\n",
    "import matplotlib.pyplot as plt\n",
    "from torch.utils.data import Dataset, DataLoader\n",
    "from torchvision import transforms, utils\n",
    "import torch.nn as nn"
   ]
  },
  {
   "cell_type": "code",
   "execution_count": 4,
   "metadata": {
    "collapsed": true
   },
   "outputs": [],
   "source": [
    "# PARAMETERS:\n",
    "n = 25\n",
    "input_size = 2\n",
    "hidden_size = 1\n",
    "num_classes = 2\n",
    "num_epochs = 10\n",
    "batch_size = 1\n",
    "learning_rate = 0.001"
   ]
  },
  {
   "cell_type": "code",
   "execution_count": 5,
   "metadata": {},
   "outputs": [
    {
     "name": "stdout",
     "output_type": "stream",
     "text": [
      "Epoch [1/10], Step [20/40], Loss: 0.7788\n",
      "Epoch [1/10], Step [40/40], Loss: 0.6420\n",
      "Epoch [2/10], Step [20/40], Loss: 0.6377\n",
      "Epoch [2/10], Step [40/40], Loss: 0.7447\n",
      "Epoch [3/10], Step [20/40], Loss: 0.7424\n",
      "Epoch [3/10], Step [40/40], Loss: 0.7289\n",
      "Epoch [4/10], Step [20/40], Loss: 0.6391\n",
      "Epoch [4/10], Step [40/40], Loss: 0.6327\n",
      "Epoch [5/10], Step [20/40], Loss: 0.6280\n",
      "Epoch [5/10], Step [40/40], Loss: 0.6051\n",
      "Epoch [6/10], Step [20/40], Loss: 0.6295\n",
      "Epoch [6/10], Step [40/40], Loss: 0.7041\n",
      "Epoch [7/10], Step [20/40], Loss: 0.5987\n",
      "Epoch [7/10], Step [40/40], Loss: 0.6982\n",
      "Epoch [8/10], Step [20/40], Loss: 0.6807\n",
      "Epoch [8/10], Step [40/40], Loss: 0.6590\n",
      "Epoch [9/10], Step [20/40], Loss: 0.6944\n",
      "Epoch [9/10], Step [40/40], Loss: 0.6475\n",
      "Epoch [10/10], Step [20/40], Loss: 0.5601\n",
      "Epoch [10/10], Step [40/40], Loss: 0.5543\n",
      "Accuracy of the network on linearly separable data: 100.0 %\n",
      "OrderedDict([('fc1.weight', tensor([[0.1889, 0.4189]], device='cuda:0')), ('fc1.bias', tensor([-0.5950], device='cuda:0')), ('fc2.weight', tensor([[0.6619],\n",
      "        [0.0301]], device='cuda:0')), ('fc2.bias', tensor([0.6328, 0.3828], device='cuda:0'))])\n"
     ]
    }
   ],
   "source": [
    "from load_linearData import getLinearDataLoader\n",
    "from LinearModel import run_model\n",
    "\n",
    "train_data, test_data, train, test = \\\n",
    "    getLinearDataLoader(n=n, d=num_classes, sigma = 0.15, test_split = 0.2, batch_size = 1, num_workers = 1)\n",
    "    \n",
    "run_model(input_size = input_size,hidden_size=hidden_size, num_classes=num_classes, num_epochs=num_epochs,\n",
    "    batch_size=batch_size, learning_rate=learning_rate, n=n,\n",
    "    train_loader=train,\n",
    "    test_loader=test)"
   ]
  },
  {
   "cell_type": "code",
   "execution_count": 6,
   "metadata": {},
   "outputs": [],
   "source": [
    "from LinearModel import LinearNet\n",
    "#load the model back\n",
    "#torch.load_state_dict('model.ckpt', LinearNet(2,2,2))\n",
    "model = LinearNet(input_size, hidden_size, num_classes)\n",
    "state_dict = torch.load('model.ckpt')\n",
    "model.load_state_dict(state_dict)"
   ]
  },
  {
   "cell_type": "code",
   "execution_count": 7,
   "metadata": {},
   "outputs": [
    {
     "data": {
      "image/png": "[encoded data removed]",
      "text/plain": [
       "<Figure size 432x288 with 1 Axes>"
      ]
     },
     "metadata": {},
     "output_type": "display_data"
    }
   ],
   "source": [
    "%matplotlib inline\n",
    "def plot_decision_boundary(pred_func,X,y):\n",
    "    # Set min and max values and give it some padding\n",
    "    x_min, x_max = X[:, 0].min() - .5, X[:, 0].max() + .5\n",
    "    y_min, y_max = X[:, 1].min() - .5, X[:, 1].max() + .5\n",
    "    h = 0.01\n",
    "    # Generate a grid of points with distance h between them\n",
    "    xx,yy=np.meshgrid(np.arange(x_min, x_max, h), np.arange(y_min, y_max, h))\n",
    "    # Predict the function value for the whole gid\n",
    "    Z = pred_func(np.c_[xx.ravel(), yy.ravel()])\n",
    "    Z = Z.reshape(xx.shape)\n",
    "    # Plot the contour and training examples\n",
    "    plt.contourf(xx, yy, Z, cmap=plt.cm.Spectral)\n",
    "    plt.scatter(X[:, 0], X[:, 1], c=y, cmap=plt.cm.binary)\n",
    "plot_decision_boundary(model.predict, train_data.inputs, train_data.labels)"
   ]
  }
 ],
 "metadata": {
  "kernelspec": {
   "display_name": "Python 3",
   "language": "python",
   "name": "python3"
  },
  "language_info": {
   "codemirror_mode": {
    "name": "ipython",
    "version": 3
   },
   "file_extension": ".py",
   "mimetype": "text/x-python",
   "name": "python",
   "nbconvert_exporter": "python",
   "pygments_lexer": "ipython3",
   "version": "3.6.6"
  }
 },
 "nbformat": 4,
 "nbformat_minor": 2
}
