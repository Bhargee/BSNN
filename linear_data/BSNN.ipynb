{
 "cells": [
  {
   "cell_type": "code",
   "execution_count": 1,
   "metadata": {},
   "outputs": [],
   "source": [
    "%load_ext autoreload\n",
    "%autoreload 2"
   ]
  },
  {
   "cell_type": "code",
   "execution_count": 2,
   "metadata": {
    "collapsed": true
   },
   "outputs": [],
   "source": [
    "import numpy as np\n",
    "import os\n",
    "import torch\n",
    "import pandas as pd\n",
    "import numpy as np\n",
    "import matplotlib.pyplot as plt\n",
    "from torch.utils.data import Dataset, DataLoader\n",
    "from torchvision import transforms, utils\n",
    "import torch.nn as nn\n",
    "import torch.nn.functional as F"
   ]
  },
  {
   "cell_type": "code",
   "execution_count": 3,
   "metadata": {
    "collapsed": true
   },
   "outputs": [],
   "source": [
    "os.environ[\"CUDA_DEVICE_ORDER\"]=\"PCI_BUS_ID\"\n",
    "os.environ[\"CUDA_VISIBLE_DEVICES\"]=\"0\""
   ]
  },
  {
   "cell_type": "code",
   "execution_count": 4,
   "metadata": {
    "collapsed": true
   },
   "outputs": [],
   "source": [
    "# PARAMETERS:\n",
    "n = 100\n",
    "input_size = 2\n",
    "hidden_size = 4\n",
    "num_classes = 2\n",
    "num_epochs = 5\n",
    "batch_size = 1\n",
    "learning_rate = 0.1"
   ]
  },
  {
   "cell_type": "code",
   "execution_count": 5,
   "metadata": {
    "scrolled": true
   },
   "outputs": [
    {
     "name": "stdout",
     "output_type": "stream",
     "text": [
      "Epoch [1/5], Step [10/160], Loss: 2.0000\n",
      "Epoch [1/5], Step [20/160], Loss: 1.0000\n",
      "Epoch [1/5], Step [30/160], Loss: 2.0000\n",
      "Epoch [1/5], Step [40/160], Loss: 2.0000\n",
      "Epoch [1/5], Step [50/160], Loss: 1.0000\n",
      "Epoch [1/5], Step [60/160], Loss: 2.0000\n",
      "Epoch [1/5], Step [70/160], Loss: 1.0000\n",
      "Epoch [1/5], Step [80/160], Loss: 0.0000\n",
      "Epoch [1/5], Step [90/160], Loss: 0.0000\n",
      "Epoch [1/5], Step [100/160], Loss: 2.0000\n",
      "Epoch [1/5], Step [110/160], Loss: 1.0000\n",
      "Epoch [1/5], Step [120/160], Loss: 1.0000\n",
      "Epoch [1/5], Step [130/160], Loss: 1.0000\n",
      "Epoch [1/5], Step [140/160], Loss: 1.0000\n",
      "Epoch [1/5], Step [150/160], Loss: 0.0000\n",
      "Epoch [1/5], Step [160/160], Loss: 0.0000\n",
      "Epoch [2/5], Step [10/160], Loss: 0.0000\n",
      "Epoch [2/5], Step [20/160], Loss: 0.0000\n",
      "Epoch [2/5], Step [30/160], Loss: 0.0000\n",
      "Epoch [2/5], Step [40/160], Loss: 0.0000\n",
      "Epoch [2/5], Step [50/160], Loss: 0.0000\n",
      "Epoch [2/5], Step [60/160], Loss: 0.0000\n",
      "Epoch [2/5], Step [70/160], Loss: 0.0000\n",
      "Epoch [2/5], Step [80/160], Loss: 0.0000\n",
      "Epoch [2/5], Step [90/160], Loss: 1.0000\n",
      "Epoch [2/5], Step [100/160], Loss: 0.0000\n",
      "Epoch [2/5], Step [110/160], Loss: 0.0000\n",
      "Epoch [2/5], Step [120/160], Loss: 0.0000\n",
      "Epoch [2/5], Step [130/160], Loss: 0.0000\n",
      "Epoch [2/5], Step [140/160], Loss: 0.0000\n",
      "Epoch [2/5], Step [150/160], Loss: 0.0000\n",
      "Epoch [2/5], Step [160/160], Loss: 1.0000\n",
      "Epoch [3/5], Step [10/160], Loss: 0.0000\n",
      "Epoch [3/5], Step [20/160], Loss: 0.0000\n",
      "Epoch [3/5], Step [30/160], Loss: 0.0000\n",
      "Epoch [3/5], Step [40/160], Loss: 0.0000\n",
      "Epoch [3/5], Step [50/160], Loss: 0.0000\n",
      "Epoch [3/5], Step [60/160], Loss: 0.0000\n",
      "Epoch [3/5], Step [70/160], Loss: 0.0000\n",
      "Epoch [3/5], Step [80/160], Loss: 0.0000\n",
      "Epoch [3/5], Step [90/160], Loss: 0.0000\n",
      "Epoch [3/5], Step [100/160], Loss: 0.0000\n",
      "Epoch [3/5], Step [110/160], Loss: 0.0000\n",
      "Epoch [3/5], Step [120/160], Loss: 0.0000\n",
      "Epoch [3/5], Step [130/160], Loss: 0.0000\n",
      "Epoch [3/5], Step [140/160], Loss: 0.0000\n",
      "Epoch [3/5], Step [150/160], Loss: 0.0000\n",
      "Epoch [3/5], Step [160/160], Loss: 0.0000\n",
      "Epoch [4/5], Step [10/160], Loss: 0.0000\n",
      "Epoch [4/5], Step [20/160], Loss: 0.0000\n",
      "Epoch [4/5], Step [30/160], Loss: 0.0000\n",
      "Epoch [4/5], Step [40/160], Loss: 0.0000\n",
      "Epoch [4/5], Step [50/160], Loss: 0.0000\n",
      "Epoch [4/5], Step [60/160], Loss: 0.0000\n",
      "Epoch [4/5], Step [70/160], Loss: 0.0000\n",
      "Epoch [4/5], Step [80/160], Loss: 0.0000\n",
      "Epoch [4/5], Step [90/160], Loss: 0.0000\n",
      "Epoch [4/5], Step [100/160], Loss: 0.0000\n",
      "Epoch [4/5], Step [110/160], Loss: 0.0000\n",
      "Epoch [4/5], Step [120/160], Loss: 0.0000\n",
      "Epoch [4/5], Step [130/160], Loss: 0.0000\n",
      "Epoch [4/5], Step [140/160], Loss: 0.0000\n",
      "Epoch [4/5], Step [150/160], Loss: 0.0000\n",
      "Epoch [4/5], Step [160/160], Loss: 0.0000\n",
      "Epoch [5/5], Step [10/160], Loss: 0.0000\n",
      "Epoch [5/5], Step [20/160], Loss: 0.0000\n",
      "Epoch [5/5], Step [30/160], Loss: 0.0000\n",
      "Epoch [5/5], Step [40/160], Loss: 0.0000\n",
      "Epoch [5/5], Step [50/160], Loss: 0.0000\n",
      "Epoch [5/5], Step [60/160], Loss: 0.0000\n",
      "Epoch [5/5], Step [70/160], Loss: 0.0000\n",
      "Epoch [5/5], Step [80/160], Loss: 0.0000\n",
      "Epoch [5/5], Step [90/160], Loss: 0.0000\n",
      "Epoch [5/5], Step [100/160], Loss: 0.0000\n",
      "Epoch [5/5], Step [110/160], Loss: 0.0000\n",
      "Epoch [5/5], Step [120/160], Loss: 0.0000\n",
      "Epoch [5/5], Step [130/160], Loss: 0.0000\n",
      "Epoch [5/5], Step [140/160], Loss: 0.0000\n",
      "Epoch [5/5], Step [150/160], Loss: 0.0000\n",
      "Epoch [5/5], Step [160/160], Loss: 0.0000\n",
      "Accuracy of the network on linearly separable data: 100.0 %\n",
      "OrderedDict([('layer1.lin.weight', tensor([[ 3.6788,  3.9156],\n",
      "        [ 4.9734,  4.9824],\n",
      "        [-2.8728, -2.7580],\n",
      "        [ 5.4308,  5.5630]], device='cuda:0')), ('layer1.lin.bias', tensor([0.0046, 0.1606, 0.6648, 0.3142], device='cuda:0')), ('layer2.lin.weight', tensor([[ 2.0998,  3.5730, -2.8553,  5.3387],\n",
      "        [-1.4227, -2.4849,  3.7357, -4.6612]], device='cuda:0')), ('layer2.lin.bias', tensor([-3.2126,  3.4533], device='cuda:0'))])\n",
      "Model saved to:  /home/bjk224/BSNN/linear_data/model.ckpt\n"
     ]
    }
   ],
   "source": [
    "from load_linearData import getLinearDataLoader\n",
    "#from LinearModel import run_model\n",
    "from StochasticBinaryModel import run_model\n",
    "\n",
    "train_data, test_data, train, test = \\\n",
    "    getLinearDataLoader(n=n, d=num_classes, sigma = 0.15, test_split = 0.2, batch_size = batch_size, num_workers = 1)\n",
    "    \n",
    "run_model(input_size = input_size,hidden_size=hidden_size, num_classes=num_classes, num_epochs=num_epochs,\n",
    "    batch_size=batch_size, learning_rate=learning_rate, n=n,\n",
    "    train_loader=train,\n",
    "    test_loader=test)"
   ]
  },
  {
   "cell_type": "code",
   "execution_count": 6,
   "metadata": {},
   "outputs": [],
   "source": [
    "#from LinearModel import LinearNet\n",
    "from StochasticBinaryModel import StochasticBinaryModel\n",
    "#load the model back\n",
    "#torch.load_state_dict('model.ckpt', LinearNet(2,2,2))\n",
    "#model = LinearNet(input_size, hidden_size, num_classes)\n",
    "model = StochasticBinaryModel(input_size, hidden_size, num_classes)\n",
    "state_dict = torch.load('/home/bjk224/BSNN/linear_data/model.ckpt')\n",
    "model.load_state_dict(state_dict)"
   ]
  },
  {
   "cell_type": "code",
   "execution_count": 7,
   "metadata": {},
   "outputs": [
    {
     "data": {
      "image/png": "[encoded data removed]",
      "text/plain": [
       "<Figure size 432x288 with 1 Axes>"
      ]
     },
     "metadata": {},
     "output_type": "display_data"
    }
   ],
   "source": [
    "%matplotlib inline\n",
    "def plot_decision_boundary(pred_func,X,y):\n",
    "    # Set min and max values and give it some padding\n",
    "    x_min, x_max = X[:, 0].min() - .5, X[:, 0].max() + .5\n",
    "    y_min, y_max = X[:, 1].min() - .5, X[:, 1].max() + .5\n",
    "    h = 0.01\n",
    "    # Generate a grid of points with distance h between them\n",
    "    xx,yy=np.meshgrid(np.arange(x_min, x_max, h), np.arange(y_min, y_max, h))\n",
    "    # Predict the function value for the whole gid\n",
    "    Z = pred_func(np.c_[xx.ravel(), yy.ravel()])\n",
    "    Z = Z.reshape(xx.shape)\n",
    "    # Plot the contour and training examples\n",
    "    plt.contourf(xx, yy, Z, cmap=plt.cm.Spectral)\n",
    "    plt.scatter(X[:, 0], X[:, 1], c=y, cmap=plt.cm.binary)\n",
    "plot_decision_boundary(model.predict, train_data.inputs, train_data.labels)"
   ]
  },
  {
   "cell_type": "code",
   "execution_count": 8,
   "metadata": {},
   "outputs": [
    {
     "name": "stdout",
     "output_type": "stream",
     "text": [
      "tensor([0.8808])\n"
     ]
    },
    {
     "data": {
      "text/plain": [
       "tensor([1.])"
      ]
     },
     "execution_count": 8,
     "metadata": {},
     "output_type": "execute_result"
    }
   ],
   "source": [
    "sig = torch.sigmoid(torch.Tensor([2]))\n",
    "print(sig)\n",
    "torch.bernoulli(sig)"
   ]
  },
  {
   "cell_type": "code",
   "execution_count": 9,
   "metadata": {},
   "outputs": [
    {
     "name": "stdout",
     "output_type": "stream",
     "text": [
      "tensor(-1.)\n",
      "tensor(0.)\n",
      "tensor(0.)\n",
      "tensor(-1.)\n",
      "\n",
      "tensor(0.)\n",
      "tensor(-1.)\n",
      "tensor(0.)\n",
      "tensor(-1.)\n"
     ]
    }
   ],
   "source": [
    "crit = nn.NLLLoss()\n",
    "print(crit(torch.Tensor([[1.,0.]]), torch.Tensor([0]).long()))\n",
    "print(crit(torch.Tensor([[0.,1.]]), torch.Tensor([0]).long()))\n",
    "print(crit(torch.Tensor([[1.,0.]]), torch.Tensor([1]).long()))\n",
    "print(crit(torch.Tensor([[0.,1.]]), torch.Tensor([1]).long()))\n",
    "print()\n",
    "print(crit(torch.Tensor([[0.,0.]]), torch.Tensor([0]).long()))\n",
    "print(crit(torch.Tensor([[1.,1.]]), torch.Tensor([0]).long()))\n",
    "print(crit(torch.Tensor([[0.,0.]]), torch.Tensor([1]).long()))\n",
    "print(crit(torch.Tensor([[1.,1.]]), torch.Tensor([1]).long()))\n",
    "\n",
    "#tensor(0.3133)\n",
    "#tensor(1.3133)\n",
    "#tensor(1.3133)\n",
    "#tensor(0.3133)\n",
    "\n",
    "#tensor(0.6931)\n",
    "#tensor(0.6931)\n",
    "#tensor(0.6931)\n",
    "#tensor(0.6931)"
   ]
  },
  {
   "cell_type": "code",
   "execution_count": 10,
   "metadata": {},
   "outputs": [
    {
     "name": "stdout",
     "output_type": "stream",
     "text": [
      "tensor(0.)\n",
      "tensor(2.)\n",
      "tensor(2.)\n",
      "tensor(0.)\n",
      "\n",
      "tensor(1.)\n",
      "tensor(1.)\n",
      "tensor(1.)\n",
      "tensor(1.)\n"
     ]
    }
   ],
   "source": [
    "crit = lambda outputs, labels: torch.sum((outputs - labels.float())**2)\n",
    "print(crit(torch.Tensor([[1.,0.]]), torch.Tensor([[1,0]]).long()))\n",
    "print(crit(torch.Tensor([[0.,1.]]), torch.Tensor([[1,0]]).long()))\n",
    "print(crit(torch.Tensor([[1.,0.]]), torch.Tensor([[0,1]]).long()))\n",
    "print(crit(torch.Tensor([[0.,1.]]), torch.Tensor([[0,1]]).long()))\n",
    "print()\n",
    "print(crit(torch.Tensor([[0.,0.]]), torch.Tensor([[1,0]]).long()))\n",
    "print(crit(torch.Tensor([[1.,1.]]), torch.Tensor([[1,0]]).long()))\n",
    "print(crit(torch.Tensor([[0.,0.]]), torch.Tensor([[0,1]]).long()))\n",
    "print(crit(torch.Tensor([[1.,1.]]), torch.Tensor([[0,1]]).long()))"
   ]
  },
  {
   "cell_type": "code",
   "execution_count": 11,
   "metadata": {},
   "outputs": [
    {
     "name": "stdout",
     "output_type": "stream",
     "text": [
      "tensor([[0]])\n",
      "tensor([[1., 0.]])\n"
     ]
    }
   ],
   "source": [
    "batch_size = 1\n",
    "nb_digits = 2\n",
    "# Dummy input that HAS to be 2D for the scatter (you can use view(-1,1) if needed)\n",
    "y = torch.LongTensor(batch_size,1).random_() % nb_digits\n",
    "# One hot encoding buffer that you create out of the loop and just keep reusing\n",
    "y_onehot = torch.FloatTensor(batch_size, nb_digits)\n",
    "\n",
    "# In your for loop\n",
    "y_onehot.zero_()\n",
    "y_onehot.scatter_(1, y, 1)\n",
    "\n",
    "print(y)\n",
    "print(y_onehot)"
   ]
  }
 ],
 "metadata": {
  "kernelspec": {
   "display_name": "Python 3",
   "language": "python",
   "name": "python3"
  },
  "language_info": {
   "codemirror_mode": {
    "name": "ipython",
    "version": 3
   },
   "file_extension": ".py",
   "mimetype": "text/x-python",
   "name": "python",
   "nbconvert_exporter": "python",
   "pygments_lexer": "ipython3",
   "version": "3.6.6"
  }
 },
 "nbformat": 4,
 "nbformat_minor": 2
}
